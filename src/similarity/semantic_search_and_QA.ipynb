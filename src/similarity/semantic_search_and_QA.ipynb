{
 "cells": [
  {
   "cell_type": "code",
   "execution_count": null,
   "metadata": {},
   "outputs": [],
   "source": [
    "import nltk\n",
    "\n",
    "nltk.download('punkt')"
   ]
  },
  {
   "cell_type": "code",
   "execution_count": null,
   "metadata": {},
   "outputs": [],
   "source": [
    "import os\n",
    "\n",
    "import torch\n",
    "from haystack.document_stores import FAISSDocumentStore, InMemoryDocumentStore, OpenSearchDocumentStore\n",
    "from haystack.nodes import BM25Retriever, EmbeddingRetriever, FARMReader\n",
    "from haystack.pipelines import DocumentSearchPipeline\n",
    "from haystack.pipelines.standard_pipelines import TextIndexingPipeline\n",
    "from torch.nn.functional import cosine_similarity\n",
    "\n",
    "document_store = InMemoryDocumentStore(embedding_dim=384)\n",
    "doc_dir = \"data/dataset\"\n",
    "\n",
    "files_to_index = [doc_dir + \"/\" + f for f in os.listdir(doc_dir)]\n",
    "indexing_pipeline = TextIndexingPipeline(document_store)\n",
    "indexing_pipeline.run_batch(file_paths=files_to_index)\n",
    "retriever = EmbeddingRetriever(\n",
    "      document_store=document_store, embedding_model=\"sentence-transformers/all-MiniLM-L12-v2\", use_gpu=True,\n",
    "  )\n",
    "document_store.update_embeddings(retriever)\n",
    "docsearchpipeline = DocumentSearchPipeline(retriever=retriever)\n",
    "\n",
    "reader = FARMReader(model_name_or_path=\"deepset/roberta-large-squad2\", use_gpu=True)\n",
    "docsearchpipeline.add_node(component=reader, name=\"FARMReader\", inputs=[\"Retriever\"])"
   ]
  },
  {
   "cell_type": "code",
   "execution_count": null,
   "metadata": {},
   "outputs": [],
   "source": [
    "def extract_similar_answer_sentences(\n",
    "    query_content: str,\n",
    "    doc_content: str,\n",
    "    retriever: EmbeddingRetriever,\n",
    "    threshold: float = 0.6,\n",
    "    ) -> str:\n",
    "    query_lines = nltk.sent_tokenize(query_content)\n",
    "    answer_lines = nltk.sent_tokenize(doc_content)\n",
    "\n",
    "    answer_embed = torch.tensor(retriever.embed_queries(answer_lines))\n",
    "    query_embed = torch.tensor(retriever.embed_queries(query_lines))\n",
    "\n",
    "    similarity_matrix = cosine_similarity(query_embed.unsqueeze(1), answer_embed.unsqueeze(0), dim=2)\n",
    "\n",
    "    _, answer_indices = torch.nonzero(similarity_matrix > threshold, as_tuple=True)\n",
    "\n",
    "    if len(answer_indices) == 0:\n",
    "        _, max_indices = torch.max(similarity_matrix, dim=1)\n",
    "        best_answer_combined = \"\\n\".join([answer_lines[i] for i in torch.unique(max_indices)])\n",
    "    else:\n",
    "        best_answer_combined = \"\\n\".join([answer_lines[i] for i in torch.unique(answer_indices)])\n",
    "\n",
    "    return best_answer_combined"
   ]
  },
  {
   "cell_type": "code",
   "execution_count": null,
   "metadata": {},
   "outputs": [],
   "source": [
    "def semantic_search_and_question_answer(query: str) -> dict:\n",
    "    results = docsearchpipeline.run(\n",
    "        query=query,\n",
    "        params={\n",
    "            \"Retriever\": {\"top_k\": 1},\n",
    "            \"FARMReader\": {\"top_k\": 1},\n",
    "        },\n",
    "        debug=False,\n",
    "    )\n",
    "\n",
    "    docs = []\n",
    "    for i, result in enumerate(results[\"answers\"]):\n",
    "        if result.score >= 0.25:\n",
    "            docs.append(\n",
    "                {\n",
    "                    \"answer\": result.answer,\n",
    "                },\n",
    "            )\n",
    "        else:\n",
    "            docs.append(\n",
    "                {\n",
    "                    \"answer\": extract_similar_answer_sentences(query, results[\"documents\"][i].content, retriever),\n",
    "                },\n",
    "            )\n",
    "\n",
    "    return {\n",
    "        \"suggested_answer\": docs,\n",
    "    }"
   ]
  },
  {
   "cell_type": "code",
   "execution_count": null,
   "metadata": {},
   "outputs": [],
   "source": [
    "query = \"\"\"\n",
    "Arya runs away from King's Landing with Yoren and his group.\n",
    "She becomes friends with Lommy, Gendry, and Hot Pie.\n",
    "They are attacked by Amory Lorch, but Arya and the others escape through a tunnel.\n",
    "Arya frees three prisoners, including Jaqen H'ghar.\n",
    "\"\"\"\n",
    "# query = \" Why is Daenerys Targaryen determined to reclaim the Iron Throne? \"\n",
    "answer = semantic_search_and_question_answer(query)\n",
    "answer[\"suggested_answer\"]"
   ]
  },
  {
   "cell_type": "code",
   "execution_count": null,
   "metadata": {},
   "outputs": [],
   "source": []
  }
 ],
 "metadata": {
  "kernelspec": {
   "display_name": ".venv",
   "language": "python",
   "name": "python3"
  },
  "language_info": {
   "codemirror_mode": {
    "name": "ipython",
    "version": 3
   },
   "file_extension": ".py",
   "mimetype": "text/x-python",
   "name": "python",
   "nbconvert_exporter": "python",
   "pygments_lexer": "ipython3",
   "version": "3.11.8"
  }
 },
 "nbformat": 4,
 "nbformat_minor": 2
}
