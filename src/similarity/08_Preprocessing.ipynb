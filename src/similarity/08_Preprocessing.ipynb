{
 "cells": [
  {
   "cell_type": "markdown",
   "metadata": {
    "collapsed": false
   },
   "source": [
    "# Preprocessing\n",
    "\n",
    "Haystack includes a suite of tools to extract text from different file types, normalize white space\n",
    "and split text into smaller pieces to optimize retrieval.\n",
    "These data preprocessing steps can have a big impact on the systems performance and effective handling of data is key to getting the most out of Haystack."
   ]
  },
  {
   "attachments": {},
   "cell_type": "markdown",
   "metadata": {
    "collapsed": false,
    "pycharm": {
     "name": "#%% md\n"
    }
   },
   "source": [
    "Ultimately, Haystack expects data to be provided as a list of documents in the following dictionary format:\n",
    "``` python\n",
    "docs = [\n",
    "    {\n",
    "        'content': DOCUMENT_TEXT_HERE,\n",
    "        'meta': {'name': DOCUMENT_NAME, ...}\n",
    "    }, ...\n",
    "]\n",
    "```"
   ]
  },
  {
   "cell_type": "markdown",
   "metadata": {
    "collapsed": false,
    "pycharm": {
     "name": "#%% md\n"
    }
   },
   "source": [
    "This tutorial will show you all the tools that Haystack provides to help you cast your data into this format."
   ]
  },
  {
   "cell_type": "markdown",
   "metadata": {},
   "source": [
    "## Installing Haystack\n",
    "\n",
    "To start, let's install the latest release of Haystack with `pip`:"
   ]
  },
  {
   "attachments": {},
   "cell_type": "markdown",
   "metadata": {},
   "source": [
    "### Enabling Telemetry \n",
    "Knowing you're using this tutorial helps us decide where to invest our efforts to build a better product but you can always opt out by commenting the following line. See [Telemetry](https://docs.haystack.deepset.ai/docs/telemetry) for more details."
   ]
  },
  {
   "cell_type": "markdown",
   "metadata": {
    "collapsed": false,
    "pycharm": {
     "name": "#%% md\n"
    }
   },
   "source": [
    "## Logging\n",
    "\n",
    "We configure how logging messages should be displayed and which log level should be used before importing Haystack.\n",
    "Example log message:\n",
    "INFO - haystack.utils.preprocessing -  Converting data/tutorial1/218_Olenna_Tyrell.txt\n",
    "Default log level in basicConfig is WARNING so the explicit parameter is not necessary but can be changed easily:"
   ]
  },
  {
   "cell_type": "markdown",
   "metadata": {
    "collapsed": false,
    "pycharm": {
     "name": "#%% md\n"
    }
   },
   "source": [
    "## Converters\n",
    "\n",
    "Haystack's converter classes are designed to help you turn files on your computer into the documents\n",
    "that can be processed by the Haystack pipeline.\n",
    "There are file converters for txt, pdf, docx files as well as a converter that is powered by Apache Tika.\n",
    "The parameter `valid_languages` does not convert files to the target language, but checks if the conversion worked as expected. Here are some examples of how you would use file converters:"
   ]
  },
  {
   "cell_type": "code",
   "execution_count": 1,
   "metadata": {
    "collapsed": false,
    "pycharm": {
     "name": "#%%\n"
    }
   },
   "outputs": [
    {
     "name": "stderr",
     "output_type": "stream",
     "text": [
      "/home/nozander/Workspace/doc-similar/.venv/lib/python3.11/site-packages/tqdm/auto.py:21: TqdmWarning: IProgress not found. Please update jupyter and ipywidgets. See https://ipywidgets.readthedocs.io/en/stable/user_install.html\n",
      "  from .autonotebook import tqdm as notebook_tqdm\n"
     ]
    }
   ],
   "source": [
    "from haystack.nodes import TextConverter, PDFToTextConverter, DocxToTextConverter, PreProcessor\n",
    "\n",
    "\n",
    "converter = TextConverter(remove_numeric_tables=True, valid_languages=[\"en\"])\n",
    "doc_txt = converter.convert(file_path=\"/home/nozander/Workspace/doc-similar/data/doc1.txt\", meta={\"filename\":\"classic\"})[0]\n",
    "\n",
    "# converter = PDFToTextConverter(remove_numeric_tables=True, valid_languages=[\"en\"])\n",
    "# doc_pdf = converter.convert(file_path=\"data/tutorial8/bert.pdf\", meta=None)[0]\n",
    "\n",
    "# converter = DocxToTextConverter(remove_numeric_tables=False, valid_languages=[\"en\"])\n",
    "# doc_docx = converter.convert(file_path=\"data/tutorial8/heavy_metal.docx\", meta=None)[0]"
   ]
  },
  {
   "cell_type": "markdown",
   "metadata": {},
   "source": [
    "Haystack also has a convenience function that will automatically apply the right converter to each file in a directory:"
   ]
  },
  {
   "cell_type": "code",
   "execution_count": 3,
   "metadata": {},
   "outputs": [
    {
     "data": {
      "text/plain": [
       "<Document: {'content': '\\n\\nThe soundtrack album of the fourth season of HBO series \\'\\'Game of Thrones\\'\\', titled \\'\\'\\'\\'\\'Game of Thrones: Season 4\\'\\'\\'\\'\\' was released digitally on June 10, 2014, and on CD on July 1, 2014. Season 4 of \\'\\'Game of Thrones\\'\\' saw the Icelandic band Sigur Rós perform their rendition of \"The Rains of Castamere\" in a cameo appearance at King Joffrey\\'s wedding in the second episode, \"The Lion and the Rose\".\\n\\n==Reception==\\nThe soundtrack received mostly positive reviews from critics. The soundtrack was awarded a score of 4/5 by Heather Phares of AllMusic.\\n\\n==Track listing==\\n\\n\\n==Credits and personnel==\\nPersonnel adapted from the album liner notes.\\n\\n* David Benioff – liner notes\\n* Ramin Djawadi – composer, primary artist, producer\\n* Sigur Rós – primary artist \\n* George R.R. Martin – lyricist\\n* D.B. Weiss – liner notes \\n\\n\\n==Charts==\\n\\n\\n\\n\\n\\n\\n Peak position\\n\\n\\n\\n\\n\\n\\n\\n', 'content_type': 'text', 'score': None, 'meta': {'filename': 'classic'}, 'id_hash_keys': ['content'], 'embedding': None, 'id': '56d916ed6d163b72c83f501418851ad'}>"
      ]
     },
     "execution_count": 3,
     "metadata": {},
     "output_type": "execute_result"
    }
   ],
   "source": []
  },
  {
   "cell_type": "code",
   "execution_count": 7,
   "metadata": {
    "collapsed": false,
    "pycharm": {
     "name": "#%%\n"
    }
   },
   "outputs": [],
   "source": [
    "from haystack.utils import convert_files_to_docs\n",
    "\n",
    "\n",
    "all_docs = convert_files_to_docs(dir_path=\"/home/nozander/Workspace/doc-similar/data\")"
   ]
  },
  {
   "cell_type": "code",
   "execution_count": 17,
   "metadata": {},
   "outputs": [],
   "source": [
    "from haystack.document_stores import InMemoryDocumentStore\n",
    "from haystack.nodes import BM25Retriever, FARMReader\n",
    "from haystack.pipelines import ExtractiveQAPipeline\n",
    "from haystack.utils import clean_wiki_text, convert_files_to_docs, fetch_archive_from_http, print_answers\n",
    "\n",
    "document_store:InMemoryDocumentStore = InMemoryDocumentStore(use_bm25=True,use_gpu=True,similarity=\"cosine\")\n",
    "retriever = BM25Retriever(document_store=document_store)"
   ]
  },
  {
   "cell_type": "code",
   "execution_count": 18,
   "metadata": {},
   "outputs": [
    {
     "name": "stderr",
     "output_type": "stream",
     "text": [
      "Updating BM25 representation...:   0%|          | 0/184 [00:00<?, ? docs/s]"
     ]
    },
    {
     "name": "stderr",
     "output_type": "stream",
     "text": [
      "Updating BM25 representation...: 100%|██████████| 184/184 [00:00<00:00, 833.30 docs/s] \n"
     ]
    }
   ],
   "source": [
    "document_store.write_documents(all_docs)"
   ]
  },
  {
   "cell_type": "code",
   "execution_count": 20,
   "metadata": {},
   "outputs": [
    {
     "data": {
      "text/plain": [
       "[<Document: {'content': '\\n\\nThe soundtrack album of the fourth season of HBO series \\'\\'Game of Thrones\\'\\', titled \\'\\'\\'\\'\\'Game of Thrones: Season 4\\'\\'\\'\\'\\' was released digitally on June 10, 2014, and on CD on July 1, 2014. Season 4 of \\'\\'Game of Thrones\\'\\' saw the Icelandic band Sigur Rós perform their rendition of \"The Rains of Castamere\" in a cameo appearance at King Joffrey\\'s wedding in the second episode, \"The Lion and the Rose\".\\n\\n==Reception==\\nThe soundtrack received mostly positive reviews from critics. The soundtrack was awarded a score of 4/5 by Heather Phares of AllMusic.\\n\\n==Track listing==\\n\\n\\n==Credits and personnel==\\nPersonnel adapted from the album liner notes.\\n\\n* David Benioff – liner notes\\n* Ramin Djawadi – composer, primary artist, producer\\n* Sigur Rós – primary artist \\n* George R.R. Martin – lyricist\\n* D.B. Weiss – liner notes \\n\\n\\n==Charts==\\n\\n\\n\\n\\n\\n Chart (2014)\\n\\n Peak position\\n\\n\\n\\n\\n\\n\\n\\n', 'content_type': 'text', 'score': None, 'meta': {'name': 'doc1.txt'}, 'id_hash_keys': ['content'], 'embedding': None, 'id': '4d9e32374cdc637f9762104d3c4641c4'}>]"
      ]
     },
     "execution_count": 20,
     "metadata": {},
     "output_type": "execute_result"
    }
   ],
   "source": [
    "document_store.get_all_documents(filters = {\"$and\": {\"document_id\": {\"$eq\": document_id}}})"
   ]
  },
  {
   "cell_type": "code",
   "execution_count": 19,
   "metadata": {},
   "outputs": [
    {
     "data": {
      "text/plain": [
       "<Document: {'content': '\\n\\nThe soundtrack album of the fourth season of HBO series \\'\\'Game of Thrones\\'\\', titled \\'\\'\\'\\'\\'Game of Thrones: Season 4\\'\\'\\'\\'\\' was released digitally on June 10, 2014, and on CD on July 1, 2014. Season 4 of \\'\\'Game of Thrones\\'\\' saw the Icelandic band Sigur Rós perform their rendition of \"The Rains of Castamere\" in a cameo appearance at King Joffrey\\'s wedding in the second episode, \"The Lion and the Rose\".\\n\\n==Reception==\\nThe soundtrack received mostly positive reviews from critics. The soundtrack was awarded a score of 4/5 by Heather Phares of AllMusic.\\n\\n==Track listing==\\n\\n\\n==Credits and personnel==\\nPersonnel adapted from the album liner notes.\\n\\n* David Benioff – liner notes\\n* Ramin Djawadi – composer, primary artist, producer\\n* Sigur Rós – primary artist \\n* George R.R. Martin – lyricist\\n* D.B. Weiss – liner notes \\n\\n\\n==Charts==\\n\\n\\n\\n\\n\\n Chart (2014)\\n\\n Peak position\\n\\n\\n\\n\\n\\n\\n\\n', 'content_type': 'text', 'score': None, 'meta': {'name': 'doc1.txt'}, 'id_hash_keys': ['content'], 'embedding': None, 'id': '4d9e32374cdc637f9762104d3c4641c4'}>"
      ]
     },
     "execution_count": 19,
     "metadata": {},
     "output_type": "execute_result"
    }
   ],
   "source": [
    "all_docs[0]"
   ]
  },
  {
   "cell_type": "code",
   "execution_count": null,
   "metadata": {},
   "outputs": [],
   "source": []
  }
 ],
 "metadata": {
  "kernelspec": {
   "display_name": "Python 3.10.6 64-bit",
   "language": "python",
   "name": "python3"
  },
  "language_info": {
   "codemirror_mode": {
    "name": "ipython",
    "version": 3
   },
   "file_extension": ".py",
   "mimetype": "text/x-python",
   "name": "python",
   "nbconvert_exporter": "python",
   "pygments_lexer": "ipython3",
   "version": "3.11.5"
  },
  "vscode": {
   "interpreter": {
    "hash": "bda33b16be7e844498c7c2d368d72665b4f1d165582b9547ed22a0249a29ca2e"
   }
  }
 },
 "nbformat": 4,
 "nbformat_minor": 2
}
